{
 "cells": [
  {
   "cell_type": "code",
   "execution_count": null,
   "metadata": {},
   "outputs": [],
   "source": [
    "import json\n",
    "import matplotlib.pyplot as plt\n",
    "import numpy as np"
   ]
  },
  {
   "cell_type": "code",
   "execution_count": null,
   "metadata": {},
   "outputs": [],
   "source": [
    "def calculate_rolling_mean(a,shift):\n",
    "    cur_mean=np.mean(a[:shift])\n",
    "    result=[cur_mean]\n",
    "    \n",
    "    \n",
    "    for i in range(len(a)-shift):\n",
    "        cur_mean+=(a[i+shift]-a[i])/shift\n",
    "        result.append(cur_mean)\n",
    "    return result"
   ]
  },
  {
   "cell_type": "code",
   "execution_count": null,
   "metadata": {},
   "outputs": [],
   "source": [
    "utility_ppo = json.load(open(\"./results/result_MAPPO_3_utility.json\"))\n",
    "utility_dqn = json.load(open(\"./results/result_DQN_utility.json\"))\n",
    "utility_double_dqn = json.load(open(\"./results/result_doubleDQN_utility.json\"))\n",
    "utility_ppo=calculate_rolling_mean(utility_ppo,500)\n",
    "utility_dqn=calculate_rolling_mean(utility_dqn,500)\n",
    "utility_double_dqn=calculate_rolling_mean(utility_double_dqn,500)\n",
    "plt.plot(range(len(utility_ppo)),utility_ppo)\n",
    "plt.plot(range(len(utility_dqn)),utility_dqn)\n",
    "plt.plot(range(len(utility_double_dqn)),utility_double_dqn)\n",
    "plt.xlabel(\"iterations\")\n",
    "plt.ylabel(\"avg. utility\")\n",
    "plt.legend(['MAPPO','DQN','D-DQN'])\n",
    "plt.show()"
   ]
  },
  {
   "cell_type": "code",
   "execution_count": null,
   "metadata": {},
   "outputs": [],
   "source": [
    "energy_ppo = json.load(open(\"./results/result_MAPPO_3_UAV_energy.json\"))\n",
    "energy_dqn = json.load(open(\"./results/result_DQN_energy.json\"))\n",
    "energy_double_dqn = json.load(open(\"./results/result_doubleDQN_energy.json\"))\n",
    "energy_ppo=[np.mean(i) for i in energy_ppo]\n",
    "energy_dqn=[np.mean(i) for i in energy_dqn]\n",
    "energy_double_dqn=[np.mean(i) for i in energy_double_dqn]\n",
    "energy_ppo=calculate_rolling_mean(energy_ppo,500)\n",
    "energy_dqn=calculate_rolling_mean(energy_dqn,500)\n",
    "energy_double_dqn=calculate_rolling_mean(energy_double_dqn,500)\n",
    "plt.plot(range(len(energy_ppo)),energy_ppo)\n",
    "plt.plot(range(len(energy_dqn)),energy_dqn)\n",
    "plt.plot(range(len(energy_double_dqn)),energy_double_dqn)\n",
    "plt.xlabel(\"iterations\")\n",
    "plt.ylabel(\"avg. energy\")\n",
    "plt.legend(['MAPPO','DQN','D-DQN'])\n",
    "plt.show()"
   ]
  },
  {
   "cell_type": "code",
   "execution_count": null,
   "metadata": {},
   "outputs": [],
   "source": [
    "AOI_ppo = json.load(open(\"./results/result_MAPPO_3_AOI.json\"))\n",
    "AOI_dqn = json.load(open(\"./results/result_DQN_AOI.json\"))\n",
    "AOI_double_dqn = json.load(open(\"./results/result_doubleDQN_AOI.json\"))\n",
    "AOI_ppo=calculate_rolling_mean(AOI_ppo,1000)\n",
    "AOI_dqn=calculate_rolling_mean(AOI_dqn,1000)\n",
    "AOI_double_dqn=calculate_rolling_mean(AOI_double_dqn,1000)\n",
    "plt.plot(range(len(AOI_ppo)),AOI_ppo)\n",
    "plt.plot(range(len(AOI_dqn)),AOI_dqn)\n",
    "plt.plot(range(len(AOI_double_dqn)),AOI_double_dqn)\n",
    "plt.xlabel(\"iterations\")\n",
    "plt.ylabel(\"avg. AOI\")\n",
    "plt.legend(['MAPPO','DQN','D-DQN'])\n",
    "plt.show()"
   ]
  },
  {
   "cell_type": "code",
   "execution_count": null,
   "metadata": {},
   "outputs": [],
   "source": [
    "utility_kms = json.load(open(\"./results/result_MAPPO_KMS_utility.json\"))\n",
    "utility_heirarchial = json.load(open(\"./results/result_MAPPO_HEIRARCHIAL_utility.json\"))\n",
    "utility_dbscan = json.load(open(\"./results/result_MAPPO_DBSCAN_utility.json\"))\n",
    "plt.plot(range(len(utility_kms)),utility_kms)\n",
    "plt.plot(range(len(utility_heirarchial)),utility_heirarchial)\n",
    "plt.plot(range(len(utility_dbscan)),utility_dbscan)\n",
    "plt.xlabel(\"iterations\")\n",
    "plt.ylabel(\"avg. utility\")\n",
    "plt.legend(['K-means','Hierarchical','DBSCAN'])\n",
    "plt.show()"
   ]
  },
  {
   "cell_type": "code",
   "execution_count": null,
   "metadata": {},
   "outputs": [],
   "source": [
    "plt.bar(['K-means','Hierarchical','DBSCAN'],[0.02539372444152832,0.23354506492614746,0.152597332000732422],color=['blue','green','red'])\n",
    "plt.xlabel('Clustering Type')\n",
    "plt.ylabel('Time taken')\n",
    "plt.show()"
   ]
  }
 ],
 "metadata": {
  "kernelspec": {
   "display_name": "venv",
   "language": "python",
   "name": "python3"
  },
  "language_info": {
   "codemirror_mode": {
    "name": "ipython",
    "version": 3
   },
   "file_extension": ".py",
   "mimetype": "text/x-python",
   "name": "python",
   "nbconvert_exporter": "python",
   "pygments_lexer": "ipython3",
   "version": "3.13.3"
  }
 },
 "nbformat": 4,
 "nbformat_minor": 2
}
